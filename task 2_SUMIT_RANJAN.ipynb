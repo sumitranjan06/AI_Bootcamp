{
  "nbformat": 4,
  "nbformat_minor": 0,
  "metadata": {
    "colab": {
      "provenance": []
    },
    "kernelspec": {
      "name": "python3",
      "display_name": "Python 3"
    },
    "language_info": {
      "name": "python"
    }
  },
  "cells": [
    {
      "cell_type": "code",
      "source": [
        "print(\"Hello World\")"
      ],
      "metadata": {
        "colab": {
          "base_uri": "https://localhost:8080/"
        },
        "id": "5Wx8TMVtlp8r",
        "outputId": "01bafeb8-db1e-474e-c0aa-8b597bf6e57b"
      },
      "execution_count": 11,
      "outputs": [
        {
          "output_type": "stream",
          "name": "stdout",
          "text": [
            "Hello World\n"
          ]
        }
      ]
    },
    {
      "cell_type": "code",
      "source": [
        "print(\"I am SUMIT RANJAN\")\n",
        "print(\"2nd sem, B1, 2412000140171\")"
      ],
      "metadata": {
        "colab": {
          "base_uri": "https://localhost:8080/"
        },
        "id": "lPr2zzWlixgA",
        "outputId": "5e22f81f-fc6b-44dd-c292-bfe41d30c404"
      },
      "execution_count": 12,
      "outputs": [
        {
          "output_type": "stream",
          "name": "stdout",
          "text": [
            "I am SUMIT RANJAN\n",
            "2nd sem, B1, 2412000140171\n"
          ]
        }
      ]
    }
  ]
}